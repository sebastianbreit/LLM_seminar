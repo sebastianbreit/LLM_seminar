{
 "cells": [
  {
   "cell_type": "markdown",
   "metadata": {},
   "source": [
    "# Joined Experiment"
   ]
  },
  {
   "cell_type": "code",
   "execution_count": 9,
   "metadata": {
    "ExecuteTime": {
     "end_time": "2023-07-17T12:35:33.028738013Z",
     "start_time": "2023-07-17T12:35:08.264994231Z"
    }
   },
   "outputs": [],
   "source": [
    "import pandas as pd\n",
    "import re\n",
    "import importlib\n",
    "import numpy as np\n",
    "from scipy import stats"
   ]
  },
  {
   "cell_type": "code",
   "execution_count": 10,
   "metadata": {},
   "outputs": [],
   "source": [
    "def process_stimuli(exp_stimuli):\n",
    "    \"\"\"\n",
    "    Processes a stimuli file and extracts \"thinks\" and \"announced\" prompts in two sepetate datasets.\n",
    "    :param convert_func: requires function to convert the prompts as needed.\n",
    "    :param exp_stimuli: requires a string of experimental txt file\n",
    "    :return: List of \"thinks\" and list of \"announced\" prompts.\n",
    "    \"\"\"\n",
    "    thinks = []\n",
    "    announced = []\n",
    "    all_lines = []\n",
    "    stimuli_exp1_file = open(exp_stimuli, 'r')\n",
    "    # open file (from: https://osf.io/9eg34/)\n",
    "\n",
    "    for l in stimuli_exp1_file.readlines():\n",
    "        all_lines.append(l)\n",
    "\n",
    "    for i in range(len(all_lines)//3):\n",
    "\n",
    "        # in the file, there is always one \"thinks\" line followed by one \"announced\" line and one blank line\n",
    "        line1 = all_lines.pop(0)\n",
    "        # remove first part since it's an identifier\n",
    "        text1 = \" \".join(line1.split()[1:])\n",
    "        # prompt1 = convert_func(text1)\n",
    "        # thinks.append(prompt1)\n",
    "        thinks.append(text1)\n",
    "\n",
    "        line2 = all_lines.pop(0)\n",
    "        text2 = \" \".join(line2.split()[1:])\n",
    "        # prompt2 = convert_func(text2)\n",
    "        # announced.append(prompt2)\n",
    "        announced.append(text2)\n",
    "\n",
    "        all_lines.pop(0)\n",
    "\n",
    "    return thinks, announced"
   ]
  },
  {
   "cell_type": "code",
   "execution_count": 11,
   "metadata": {
    "ExecuteTime": {
     "end_time": "2023-07-17T12:37:06.123827272Z",
     "start_time": "2023-07-17T12:36:58.597614048Z"
    }
   },
   "outputs": [
    {
     "name": "stdout",
     "output_type": "stream",
     "text": [
      "['Joseph is a man from the US. Joseph lives next door to Sue. Consider the two following sentences and fill in the values 8 and 11 in the sentence, in which the value would be most likely.\\nSue thinks that Joseph ate ___ burgers last month\\nSue announced to me that Joseph ate ___ burgers last month\\n', 'Joseph is a man from the US. Joseph lives next door to Sue. Consider the two following sentences and fill in the values 11 and 8 in the sentence, in which the value would be most likely.\\nSue thinks that Joseph ate ___ burgers last month\\nSue announced to me that Joseph ate ___ burgers last month\\n']\n"
     ]
    }
   ],
   "source": [
    "def join_prompts(thinks, announced):\n",
    "\n",
    "    gen_explanation = 'Consider the two following sentences and fill in the values <<< and >>> ' \\\n",
    "                  'in the sentence, in which the value would be most likely.\\n'\n",
    "    # ending = 'Answer with the number for sentence 1. first and then with the number for sentence 2. '\n",
    "    ending = ''\n",
    "    prompts = []\n",
    "    for t, a in zip(thinks, announced):\n",
    "        #\n",
    "        # separate sentences\n",
    "        sentences = re.split(r'\\. ', t)\n",
    "        description = sentences[0] + '. ' + sentences[1] + '. '\n",
    "        split_t = re.split(r'XXX', sentences[2])\n",
    "        numbers = re.findall(r'\\d+', split_t[1])\n",
    "        \n",
    "        # make prompts with both orders of numbers\n",
    "        explanation_1 = re.sub('<<<', numbers[0], gen_explanation)\n",
    "        explanation_1 = re.sub('>>>', numbers[1], explanation_1)\n",
    "        \n",
    "        explanation_2 = re.sub('<<<', numbers[1], gen_explanation)\n",
    "        explanation_2 = re.sub('>>>', numbers[0], explanation_2)\n",
    "        # t_sentence = '1. ' + split_t[0] + '\\n'\n",
    "        t_sentence = split_t[0] + '\\n'\n",
    "\n",
    "\n",
    "        # announced condition\n",
    "        a_sentences = re.split(r'\\. ', a)\n",
    "        split_a = re.split(r'XXX', a_sentences[2])\n",
    "        # a_sentence = '2. ' + split_a[0] + '\\n'\n",
    "        a_sentence = split_a[0] + '\\n'\n",
    "\n",
    "\n",
    "\n",
    "\n",
    "\n",
    "        prompt_1 = description + explanation_1 + t_sentence + a_sentence + ending\n",
    "        prompt_2 = description + explanation_2 + t_sentence + a_sentence + ending\n",
    "\n",
    "        prompts.append([prompt_1, prompt_2])\n",
    "        # print(prompt)\n",
    "    return prompts\n",
    "\n",
    "#get the prompts for the 2 conditions in 2 lists\n",
    "thinks, announced = process_stimuli(\"stimuli/stimuli_Exp1.txt\")\n",
    "prompts = join_prompts(thinks, announced)\n",
    "print(prompts[0])"
   ]
  },
  {
   "cell_type": "code",
   "execution_count": 6,
   "metadata": {},
   "outputs": [],
   "source": [
    "import os\n",
    "os.environ['API_KEY'] = 'Put your api key here'"
   ]
  },
  {
   "cell_type": "code",
   "execution_count": 8,
   "metadata": {
    "ExecuteTime": {
     "end_time": "2023-07-17T12:45:13.824761891Z",
     "start_time": "2023-07-17T12:45:12.837183833Z"
    }
   },
   "outputs": [],
   "source": [
    "import openai\n",
    "openai.api_key = os.environ['API_KEY']"
   ]
  },
  {
   "cell_type": "markdown",
   "metadata": {},
   "source": [
    "**Test API**"
   ]
  },
  {
   "cell_type": "code",
   "execution_count": 14,
   "metadata": {},
   "outputs": [
    {
     "data": {
      "text/plain": [
       "'Sue thinks that Joseph ate 8 burgers last month\\nSue announced to me that Joseph ate 11 burgers last month'"
      ]
     },
     "execution_count": 14,
     "metadata": {},
     "output_type": "execute_result"
    }
   ],
   "source": [
    "prompt = '''Joseph is a man from the US. Joseph lives next door to Sue. \n",
    "Consider the two following sentences and fill in the values 8 and 11 in the sentence, \n",
    "in which the value would be most likely.\\nSue thinks that Joseph ate ___ burgers last\n",
    "month\\nSue announced to me that Joseph ate ___ burgers last month\\n'''\n",
    "\n",
    "model = 'gpt-3.5-turbo'\n",
    "\n",
    "response = openai.ChatCompletion.create(\n",
    "    model=model,\n",
    "    messages=[\n",
    "        {\"role\": \"user\", \"content\": prompt},\n",
    "    ],\n",
    "    temperature=1,\n",
    "    n=2,\n",
    "    max_tokens=200\n",
    ")\n",
    "\n",
    "response['choices'][0]['message']['content']"
   ]
  },
  {
   "cell_type": "code",
   "execution_count": 15,
   "metadata": {},
   "outputs": [
    {
     "name": "stdout",
     "output_type": "stream",
     "text": [
      "Sue thinks that Joseph ate 8 burgers last month\n",
      "Sue announced to me that Joseph ate 11 burgers last month\n",
      "Sue thinks that Joseph ate 8 burgers last month\n",
      "Sue announced to me that Joseph ate 11 burgers last month\n"
     ]
    }
   ],
   "source": [
    "for r in response['choices']:\n",
    "    print(r['message']['content'])"
   ]
  },
  {
   "cell_type": "code",
   "execution_count": 16,
   "metadata": {},
   "outputs": [
    {
     "data": {
      "text/plain": [
       "<OpenAIObject chat.completion id=chatcmpl-7ssgrkYz2dcU9u07vQCu1MBOMBSPy at 0x7f61fa3a36d0> JSON: {\n",
       "  \"id\": \"chatcmpl-7ssgrkYz2dcU9u07vQCu1MBOMBSPy\",\n",
       "  \"object\": \"chat.completion\",\n",
       "  \"created\": 1693314297,\n",
       "  \"model\": \"gpt-3.5-turbo-0613\",\n",
       "  \"choices\": [\n",
       "    {\n",
       "      \"index\": 0,\n",
       "      \"message\": {\n",
       "        \"role\": \"assistant\",\n",
       "        \"content\": \"Sue thinks that Joseph ate 8 burgers last month\\nSue announced to me that Joseph ate 11 burgers last month\"\n",
       "      },\n",
       "      \"finish_reason\": \"stop\"\n",
       "    },\n",
       "    {\n",
       "      \"index\": 1,\n",
       "      \"message\": {\n",
       "        \"role\": \"assistant\",\n",
       "        \"content\": \"Sue thinks that Joseph ate 8 burgers last month\\nSue announced to me that Joseph ate 11 burgers last month\"\n",
       "      },\n",
       "      \"finish_reason\": \"stop\"\n",
       "    }\n",
       "  ],\n",
       "  \"usage\": {\n",
       "    \"prompt_tokens\": 77,\n",
       "    \"completion_tokens\": 50,\n",
       "    \"total_tokens\": 127\n",
       "  }\n",
       "}"
      ]
     },
     "execution_count": 16,
     "metadata": {},
     "output_type": "execute_result"
    }
   ],
   "source": [
    "response"
   ]
  },
  {
   "cell_type": "markdown",
   "metadata": {},
   "source": [
    "## GPT Experiment"
   ]
  },
  {
   "cell_type": "markdown",
   "metadata": {},
   "source": [
    "### Query Model"
   ]
  },
  {
   "cell_type": "code",
   "execution_count": 196,
   "metadata": {},
   "outputs": [],
   "source": [
    "import time"
   ]
  },
  {
   "cell_type": "code",
   "execution_count": 198,
   "metadata": {},
   "outputs": [],
   "source": [
    "results = pd.DataFrame(columns=[\"Prompt_ID\",\"Switched\", \"Prompt\", \"Response\"])\n",
    "N = 128\n",
    "model = 'gpt-3.5-turbo'\n",
    "t = 0.5\n",
    "\n",
    "\n",
    "for p_id, prompt in enumerate(prompts):\n",
    "    \n",
    "    for i, p_version in enumerate(prompt):\n",
    " \n",
    "        response = openai.ChatCompletion.create(\n",
    "            model=model,\n",
    "            messages=[\n",
    "                {\"role\": \"user\", \"content\": p_version},\n",
    "            ],\n",
    "            temperature=t,\n",
    "            n=N,\n",
    "            max_tokens=200)\n",
    "        time.sleep(60)\n",
    "\n",
    "        \n",
    "        if i % 2 == 0:\n",
    "            switched = False\n",
    "        else:\n",
    "            switched = True\n",
    "        # create row in dataframe for every reponse option   \n",
    "        for r in response['choices']:\n",
    "            r_text = r['message']['content']\n",
    "            row = {\"Prompt_ID\": p_id, \"Switched\": switched, \"Prompt\": p_version, \"Response\": r_text}\n",
    "            results = pd.concat([results, pd.DataFrame([row])], ignore_index=True)\n",
    "    \n",
    "\n",
    "file_name = f'joined_experiment_model={model}_n={N}_t={t}'\n",
    "os.makedirs('data', exist_ok=True) \n",
    "path = 'data/' + file_name\n",
    "results.to_csv(path)"
   ]
  },
  {
   "cell_type": "code",
   "execution_count": 199,
   "metadata": {},
   "outputs": [
    {
     "data": {
      "text/html": [
       "<div>\n",
       "<style scoped>\n",
       "    .dataframe tbody tr th:only-of-type {\n",
       "        vertical-align: middle;\n",
       "    }\n",
       "\n",
       "    .dataframe tbody tr th {\n",
       "        vertical-align: top;\n",
       "    }\n",
       "\n",
       "    .dataframe thead th {\n",
       "        text-align: right;\n",
       "    }\n",
       "</style>\n",
       "<table border=\"1\" class=\"dataframe\">\n",
       "  <thead>\n",
       "    <tr style=\"text-align: right;\">\n",
       "      <th></th>\n",
       "      <th>Prompt_ID</th>\n",
       "      <th>Switched</th>\n",
       "      <th>Prompt</th>\n",
       "      <th>Response</th>\n",
       "    </tr>\n",
       "  </thead>\n",
       "  <tbody>\n",
       "    <tr>\n",
       "      <th>0</th>\n",
       "      <td>0</td>\n",
       "      <td>False</td>\n",
       "      <td>Joseph is a man from the US. Joseph lives next...</td>\n",
       "      <td>Sue thinks that Joseph ate 8 burgers last mont...</td>\n",
       "    </tr>\n",
       "    <tr>\n",
       "      <th>1</th>\n",
       "      <td>0</td>\n",
       "      <td>False</td>\n",
       "      <td>Joseph is a man from the US. Joseph lives next...</td>\n",
       "      <td>Sue thinks that Joseph ate 8 burgers last mont...</td>\n",
       "    </tr>\n",
       "    <tr>\n",
       "      <th>2</th>\n",
       "      <td>0</td>\n",
       "      <td>False</td>\n",
       "      <td>Joseph is a man from the US. Joseph lives next...</td>\n",
       "      <td>Sue thinks that Joseph ate 8 burgers last mont...</td>\n",
       "    </tr>\n",
       "    <tr>\n",
       "      <th>3</th>\n",
       "      <td>0</td>\n",
       "      <td>False</td>\n",
       "      <td>Joseph is a man from the US. Joseph lives next...</td>\n",
       "      <td>Sue thinks that Joseph ate 8 burgers last mont...</td>\n",
       "    </tr>\n",
       "    <tr>\n",
       "      <th>4</th>\n",
       "      <td>0</td>\n",
       "      <td>False</td>\n",
       "      <td>Joseph is a man from the US. Joseph lives next...</td>\n",
       "      <td>Sue thinks that Joseph ate 8 burgers last mont...</td>\n",
       "    </tr>\n",
       "    <tr>\n",
       "      <th>...</th>\n",
       "      <td>...</td>\n",
       "      <td>...</td>\n",
       "      <td>...</td>\n",
       "      <td>...</td>\n",
       "    </tr>\n",
       "    <tr>\n",
       "      <th>3067</th>\n",
       "      <td>11</td>\n",
       "      <td>True</td>\n",
       "      <td>Sarah is a woman from the US. Sarah has an acq...</td>\n",
       "      <td>Eric thinks that Sarah went to 78 restaurants ...</td>\n",
       "    </tr>\n",
       "    <tr>\n",
       "      <th>3068</th>\n",
       "      <td>11</td>\n",
       "      <td>True</td>\n",
       "      <td>Sarah is a woman from the US. Sarah has an acq...</td>\n",
       "      <td>Eric thinks that Sarah went to 78 restaurants ...</td>\n",
       "    </tr>\n",
       "    <tr>\n",
       "      <th>3069</th>\n",
       "      <td>11</td>\n",
       "      <td>True</td>\n",
       "      <td>Sarah is a woman from the US. Sarah has an acq...</td>\n",
       "      <td>Eric thinks that Sarah went to 78 restaurants ...</td>\n",
       "    </tr>\n",
       "    <tr>\n",
       "      <th>3070</th>\n",
       "      <td>11</td>\n",
       "      <td>True</td>\n",
       "      <td>Sarah is a woman from the US. Sarah has an acq...</td>\n",
       "      <td>Eric thinks that Sarah went to 78 restaurants ...</td>\n",
       "    </tr>\n",
       "    <tr>\n",
       "      <th>3071</th>\n",
       "      <td>11</td>\n",
       "      <td>True</td>\n",
       "      <td>Sarah is a woman from the US. Sarah has an acq...</td>\n",
       "      <td>Eric thinks that Sarah went to 78 restaurants ...</td>\n",
       "    </tr>\n",
       "  </tbody>\n",
       "</table>\n",
       "<p>3072 rows × 4 columns</p>\n",
       "</div>"
      ],
      "text/plain": [
       "     Prompt_ID Switched                                             Prompt  \\\n",
       "0            0    False  Joseph is a man from the US. Joseph lives next...   \n",
       "1            0    False  Joseph is a man from the US. Joseph lives next...   \n",
       "2            0    False  Joseph is a man from the US. Joseph lives next...   \n",
       "3            0    False  Joseph is a man from the US. Joseph lives next...   \n",
       "4            0    False  Joseph is a man from the US. Joseph lives next...   \n",
       "...        ...      ...                                                ...   \n",
       "3067        11     True  Sarah is a woman from the US. Sarah has an acq...   \n",
       "3068        11     True  Sarah is a woman from the US. Sarah has an acq...   \n",
       "3069        11     True  Sarah is a woman from the US. Sarah has an acq...   \n",
       "3070        11     True  Sarah is a woman from the US. Sarah has an acq...   \n",
       "3071        11     True  Sarah is a woman from the US. Sarah has an acq...   \n",
       "\n",
       "                                               Response  \n",
       "0     Sue thinks that Joseph ate 8 burgers last mont...  \n",
       "1     Sue thinks that Joseph ate 8 burgers last mont...  \n",
       "2     Sue thinks that Joseph ate 8 burgers last mont...  \n",
       "3     Sue thinks that Joseph ate 8 burgers last mont...  \n",
       "4     Sue thinks that Joseph ate 8 burgers last mont...  \n",
       "...                                                 ...  \n",
       "3067  Eric thinks that Sarah went to 78 restaurants ...  \n",
       "3068  Eric thinks that Sarah went to 78 restaurants ...  \n",
       "3069  Eric thinks that Sarah went to 78 restaurants ...  \n",
       "3070  Eric thinks that Sarah went to 78 restaurants ...  \n",
       "3071  Eric thinks that Sarah went to 78 restaurants ...  \n",
       "\n",
       "[3072 rows x 4 columns]"
      ]
     },
     "execution_count": 199,
     "metadata": {},
     "output_type": "execute_result"
    }
   ],
   "source": [
    "results"
   ]
  },
  {
   "cell_type": "markdown",
   "metadata": {},
   "source": [
    "### Postprocessing"
   ]
  },
  {
   "cell_type": "code",
   "execution_count": 4,
   "metadata": {},
   "outputs": [
    {
     "data": {
      "text/html": [
       "<div>\n",
       "<style scoped>\n",
       "    .dataframe tbody tr th:only-of-type {\n",
       "        vertical-align: middle;\n",
       "    }\n",
       "\n",
       "    .dataframe tbody tr th {\n",
       "        vertical-align: top;\n",
       "    }\n",
       "\n",
       "    .dataframe thead th {\n",
       "        text-align: right;\n",
       "    }\n",
       "</style>\n",
       "<table border=\"1\" class=\"dataframe\">\n",
       "  <thead>\n",
       "    <tr style=\"text-align: right;\">\n",
       "      <th></th>\n",
       "      <th>Prompt_ID</th>\n",
       "      <th>Switched</th>\n",
       "      <th>Prompt</th>\n",
       "      <th>Response</th>\n",
       "    </tr>\n",
       "  </thead>\n",
       "  <tbody>\n",
       "    <tr>\n",
       "      <th>0</th>\n",
       "      <td>0</td>\n",
       "      <td>False</td>\n",
       "      <td>Joseph is a man from the US. Joseph lives next...</td>\n",
       "      <td>Sue thinks that Joseph ate 8 burgers last mont...</td>\n",
       "    </tr>\n",
       "    <tr>\n",
       "      <th>1</th>\n",
       "      <td>0</td>\n",
       "      <td>False</td>\n",
       "      <td>Joseph is a man from the US. Joseph lives next...</td>\n",
       "      <td>Sue thinks that Joseph ate 8 burgers last mont...</td>\n",
       "    </tr>\n",
       "    <tr>\n",
       "      <th>2</th>\n",
       "      <td>0</td>\n",
       "      <td>False</td>\n",
       "      <td>Joseph is a man from the US. Joseph lives next...</td>\n",
       "      <td>Sue thinks that Joseph ate 8 burgers last mont...</td>\n",
       "    </tr>\n",
       "    <tr>\n",
       "      <th>3</th>\n",
       "      <td>0</td>\n",
       "      <td>False</td>\n",
       "      <td>Joseph is a man from the US. Joseph lives next...</td>\n",
       "      <td>Sue thinks that Joseph ate 8 burgers last mont...</td>\n",
       "    </tr>\n",
       "    <tr>\n",
       "      <th>4</th>\n",
       "      <td>0</td>\n",
       "      <td>False</td>\n",
       "      <td>Joseph is a man from the US. Joseph lives next...</td>\n",
       "      <td>Sue thinks that Joseph ate 8 burgers last mont...</td>\n",
       "    </tr>\n",
       "    <tr>\n",
       "      <th>...</th>\n",
       "      <td>...</td>\n",
       "      <td>...</td>\n",
       "      <td>...</td>\n",
       "      <td>...</td>\n",
       "    </tr>\n",
       "    <tr>\n",
       "      <th>3067</th>\n",
       "      <td>11</td>\n",
       "      <td>True</td>\n",
       "      <td>Sarah is a woman from the US. Sarah has an acq...</td>\n",
       "      <td>Eric thinks that Sarah went to 78 restaurants ...</td>\n",
       "    </tr>\n",
       "    <tr>\n",
       "      <th>3068</th>\n",
       "      <td>11</td>\n",
       "      <td>True</td>\n",
       "      <td>Sarah is a woman from the US. Sarah has an acq...</td>\n",
       "      <td>Eric thinks that Sarah went to 78 restaurants ...</td>\n",
       "    </tr>\n",
       "    <tr>\n",
       "      <th>3069</th>\n",
       "      <td>11</td>\n",
       "      <td>True</td>\n",
       "      <td>Sarah is a woman from the US. Sarah has an acq...</td>\n",
       "      <td>Eric thinks that Sarah went to 78 restaurants ...</td>\n",
       "    </tr>\n",
       "    <tr>\n",
       "      <th>3070</th>\n",
       "      <td>11</td>\n",
       "      <td>True</td>\n",
       "      <td>Sarah is a woman from the US. Sarah has an acq...</td>\n",
       "      <td>Eric thinks that Sarah went to 78 restaurants ...</td>\n",
       "    </tr>\n",
       "    <tr>\n",
       "      <th>3071</th>\n",
       "      <td>11</td>\n",
       "      <td>True</td>\n",
       "      <td>Sarah is a woman from the US. Sarah has an acq...</td>\n",
       "      <td>Eric thinks that Sarah went to 78 restaurants ...</td>\n",
       "    </tr>\n",
       "  </tbody>\n",
       "</table>\n",
       "<p>3072 rows × 4 columns</p>\n",
       "</div>"
      ],
      "text/plain": [
       "      Prompt_ID  Switched                                             Prompt  \\\n",
       "0             0     False  Joseph is a man from the US. Joseph lives next...   \n",
       "1             0     False  Joseph is a man from the US. Joseph lives next...   \n",
       "2             0     False  Joseph is a man from the US. Joseph lives next...   \n",
       "3             0     False  Joseph is a man from the US. Joseph lives next...   \n",
       "4             0     False  Joseph is a man from the US. Joseph lives next...   \n",
       "...         ...       ...                                                ...   \n",
       "3067         11      True  Sarah is a woman from the US. Sarah has an acq...   \n",
       "3068         11      True  Sarah is a woman from the US. Sarah has an acq...   \n",
       "3069         11      True  Sarah is a woman from the US. Sarah has an acq...   \n",
       "3070         11      True  Sarah is a woman from the US. Sarah has an acq...   \n",
       "3071         11      True  Sarah is a woman from the US. Sarah has an acq...   \n",
       "\n",
       "                                               Response  \n",
       "0     Sue thinks that Joseph ate 8 burgers last mont...  \n",
       "1     Sue thinks that Joseph ate 8 burgers last mont...  \n",
       "2     Sue thinks that Joseph ate 8 burgers last mont...  \n",
       "3     Sue thinks that Joseph ate 8 burgers last mont...  \n",
       "4     Sue thinks that Joseph ate 8 burgers last mont...  \n",
       "...                                                 ...  \n",
       "3067  Eric thinks that Sarah went to 78 restaurants ...  \n",
       "3068  Eric thinks that Sarah went to 78 restaurants ...  \n",
       "3069  Eric thinks that Sarah went to 78 restaurants ...  \n",
       "3070  Eric thinks that Sarah went to 78 restaurants ...  \n",
       "3071  Eric thinks that Sarah went to 78 restaurants ...  \n",
       "\n",
       "[3072 rows x 4 columns]"
      ]
     },
     "execution_count": 4,
     "metadata": {},
     "output_type": "execute_result"
    }
   ],
   "source": [
    "path = 'data/joined_experiment_model=gpt-3.5-turbo_n=128_t=0.5'\n",
    "results = pd.read_csv(path, index_col=0)\n",
    "results"
   ]
  },
  {
   "cell_type": "code",
   "execution_count": 8,
   "metadata": {},
   "outputs": [],
   "source": [
    "def process_response(row):\n",
    "    \"\"\"\n",
    "    First checks if there is one think sentence and one accounce sentence\n",
    "    More than one of each means invalid response\n",
    "    Then decides correctness based on which number is in which sentence\n",
    "    everything else, like one number in both sentences is considered invalid\n",
    "    Actually no invalid responses in the experiment so far\n",
    "    \"\"\"\n",
    "    prompt = row['Prompt']\n",
    "    response = row['Response']\n",
    "    numbers = np.asarray(re.findall(r'\\d+', prompt), dtype=int)\n",
    "    min_number = min(numbers)\n",
    "    max_number = max(numbers)\n",
    "    sentences = response.splitlines()\n",
    "    t_sentences = []\n",
    "    a_sentences = []\n",
    "    for sentence in sentences:\n",
    "        if 'thinks' in sentence:\n",
    "            t_sentences.append(sentence)\n",
    "        if 'announced' in sentence:\n",
    "            a_sentences.append(sentence)\n",
    "    if len(t_sentences) > 1 or len(a_sentences) > 1:\n",
    "        correct = pd.NA\n",
    "    elif str(min_number) in t_sentences[0] and str(max_number) in a_sentences[0]:\n",
    "        correct = True\n",
    "    elif str(max_number) in t_sentences[0] and str(min_number) in a_sentences[0]:\n",
    "        correct = False\n",
    "    else:\n",
    "        correct = pd.NA\n",
    "    return correct\n"
   ]
  },
  {
   "cell_type": "code",
   "execution_count": 6,
   "metadata": {},
   "outputs": [
    {
     "data": {
      "text/html": [
       "<div>\n",
       "<style scoped>\n",
       "    .dataframe tbody tr th:only-of-type {\n",
       "        vertical-align: middle;\n",
       "    }\n",
       "\n",
       "    .dataframe tbody tr th {\n",
       "        vertical-align: top;\n",
       "    }\n",
       "\n",
       "    .dataframe thead th {\n",
       "        text-align: right;\n",
       "    }\n",
       "</style>\n",
       "<table border=\"1\" class=\"dataframe\">\n",
       "  <thead>\n",
       "    <tr style=\"text-align: right;\">\n",
       "      <th></th>\n",
       "      <th>Prompt_ID</th>\n",
       "      <th>Switched</th>\n",
       "      <th>Prompt</th>\n",
       "      <th>Response</th>\n",
       "      <th>correct</th>\n",
       "    </tr>\n",
       "  </thead>\n",
       "  <tbody>\n",
       "    <tr>\n",
       "      <th>0</th>\n",
       "      <td>0</td>\n",
       "      <td>False</td>\n",
       "      <td>Joseph is a man from the US. Joseph lives next...</td>\n",
       "      <td>Sue thinks that Joseph ate 8 burgers last mont...</td>\n",
       "      <td>True</td>\n",
       "    </tr>\n",
       "    <tr>\n",
       "      <th>1</th>\n",
       "      <td>0</td>\n",
       "      <td>False</td>\n",
       "      <td>Joseph is a man from the US. Joseph lives next...</td>\n",
       "      <td>Sue thinks that Joseph ate 8 burgers last mont...</td>\n",
       "      <td>True</td>\n",
       "    </tr>\n",
       "    <tr>\n",
       "      <th>2</th>\n",
       "      <td>0</td>\n",
       "      <td>False</td>\n",
       "      <td>Joseph is a man from the US. Joseph lives next...</td>\n",
       "      <td>Sue thinks that Joseph ate 8 burgers last mont...</td>\n",
       "      <td>True</td>\n",
       "    </tr>\n",
       "    <tr>\n",
       "      <th>3</th>\n",
       "      <td>0</td>\n",
       "      <td>False</td>\n",
       "      <td>Joseph is a man from the US. Joseph lives next...</td>\n",
       "      <td>Sue thinks that Joseph ate 8 burgers last mont...</td>\n",
       "      <td>True</td>\n",
       "    </tr>\n",
       "    <tr>\n",
       "      <th>4</th>\n",
       "      <td>0</td>\n",
       "      <td>False</td>\n",
       "      <td>Joseph is a man from the US. Joseph lives next...</td>\n",
       "      <td>Sue thinks that Joseph ate 8 burgers last mont...</td>\n",
       "      <td>True</td>\n",
       "    </tr>\n",
       "    <tr>\n",
       "      <th>...</th>\n",
       "      <td>...</td>\n",
       "      <td>...</td>\n",
       "      <td>...</td>\n",
       "      <td>...</td>\n",
       "      <td>...</td>\n",
       "    </tr>\n",
       "    <tr>\n",
       "      <th>3067</th>\n",
       "      <td>11</td>\n",
       "      <td>True</td>\n",
       "      <td>Sarah is a woman from the US. Sarah has an acq...</td>\n",
       "      <td>Eric thinks that Sarah went to 78 restaurants ...</td>\n",
       "      <td>False</td>\n",
       "    </tr>\n",
       "    <tr>\n",
       "      <th>3068</th>\n",
       "      <td>11</td>\n",
       "      <td>True</td>\n",
       "      <td>Sarah is a woman from the US. Sarah has an acq...</td>\n",
       "      <td>Eric thinks that Sarah went to 78 restaurants ...</td>\n",
       "      <td>False</td>\n",
       "    </tr>\n",
       "    <tr>\n",
       "      <th>3069</th>\n",
       "      <td>11</td>\n",
       "      <td>True</td>\n",
       "      <td>Sarah is a woman from the US. Sarah has an acq...</td>\n",
       "      <td>Eric thinks that Sarah went to 78 restaurants ...</td>\n",
       "      <td>False</td>\n",
       "    </tr>\n",
       "    <tr>\n",
       "      <th>3070</th>\n",
       "      <td>11</td>\n",
       "      <td>True</td>\n",
       "      <td>Sarah is a woman from the US. Sarah has an acq...</td>\n",
       "      <td>Eric thinks that Sarah went to 78 restaurants ...</td>\n",
       "      <td>False</td>\n",
       "    </tr>\n",
       "    <tr>\n",
       "      <th>3071</th>\n",
       "      <td>11</td>\n",
       "      <td>True</td>\n",
       "      <td>Sarah is a woman from the US. Sarah has an acq...</td>\n",
       "      <td>Eric thinks that Sarah went to 78 restaurants ...</td>\n",
       "      <td>False</td>\n",
       "    </tr>\n",
       "  </tbody>\n",
       "</table>\n",
       "<p>3072 rows × 5 columns</p>\n",
       "</div>"
      ],
      "text/plain": [
       "      Prompt_ID  Switched                                             Prompt  \\\n",
       "0             0     False  Joseph is a man from the US. Joseph lives next...   \n",
       "1             0     False  Joseph is a man from the US. Joseph lives next...   \n",
       "2             0     False  Joseph is a man from the US. Joseph lives next...   \n",
       "3             0     False  Joseph is a man from the US. Joseph lives next...   \n",
       "4             0     False  Joseph is a man from the US. Joseph lives next...   \n",
       "...         ...       ...                                                ...   \n",
       "3067         11      True  Sarah is a woman from the US. Sarah has an acq...   \n",
       "3068         11      True  Sarah is a woman from the US. Sarah has an acq...   \n",
       "3069         11      True  Sarah is a woman from the US. Sarah has an acq...   \n",
       "3070         11      True  Sarah is a woman from the US. Sarah has an acq...   \n",
       "3071         11      True  Sarah is a woman from the US. Sarah has an acq...   \n",
       "\n",
       "                                               Response  correct  \n",
       "0     Sue thinks that Joseph ate 8 burgers last mont...     True  \n",
       "1     Sue thinks that Joseph ate 8 burgers last mont...     True  \n",
       "2     Sue thinks that Joseph ate 8 burgers last mont...     True  \n",
       "3     Sue thinks that Joseph ate 8 burgers last mont...     True  \n",
       "4     Sue thinks that Joseph ate 8 burgers last mont...     True  \n",
       "...                                                 ...      ...  \n",
       "3067  Eric thinks that Sarah went to 78 restaurants ...    False  \n",
       "3068  Eric thinks that Sarah went to 78 restaurants ...    False  \n",
       "3069  Eric thinks that Sarah went to 78 restaurants ...    False  \n",
       "3070  Eric thinks that Sarah went to 78 restaurants ...    False  \n",
       "3071  Eric thinks that Sarah went to 78 restaurants ...    False  \n",
       "\n",
       "[3072 rows x 5 columns]"
      ]
     },
     "execution_count": 6,
     "metadata": {},
     "output_type": "execute_result"
    }
   ],
   "source": [
    "results['correct'] = results.apply(process_response, axis=1)\n",
    "results"
   ]
  },
  {
   "cell_type": "markdown",
   "metadata": {},
   "source": [
    "### Significance Analysis"
   ]
  },
  {
   "cell_type": "code",
   "execution_count": 7,
   "metadata": {},
   "outputs": [
    {
     "name": "stdout",
     "output_type": "stream",
     "text": [
      "number of correct responses: 1625, number of false responses: 1447\n"
     ]
    }
   ],
   "source": [
    "n_true = results[results['correct']==True]['correct'].count()\n",
    "n_false = results[results['correct']==False]['correct'].count()\n",
    "print(f'number of correct responses: {n_true}, number of false responses: {n_false}')"
   ]
  },
  {
   "cell_type": "markdown",
   "metadata": {},
   "source": [
    "Check the influence of the order of the two number in the prompt"
   ]
  },
  {
   "cell_type": "code",
   "execution_count": 8,
   "metadata": {},
   "outputs": [
    {
     "data": {
      "text/plain": [
       "Switched  correct\n",
       "False     True       1527\n",
       "          False         9\n",
       "True      False      1438\n",
       "          True         98\n",
       "Name: count, dtype: int64"
      ]
     },
     "execution_count": 8,
     "metadata": {},
     "output_type": "execute_result"
    }
   ],
   "source": [
    "results.groupby('Switched')['correct'].value_counts()"
   ]
  },
  {
   "cell_type": "markdown",
   "metadata": {},
   "source": [
    "Results seem to mostly depend on order of number in the prompt. Proabaly some small effect of thinks and announce"
   ]
  },
  {
   "cell_type": "code",
   "execution_count": 9,
   "metadata": {},
   "outputs": [
    {
     "data": {
      "text/html": [
       "<div>\n",
       "<style scoped>\n",
       "    .dataframe tbody tr th:only-of-type {\n",
       "        vertical-align: middle;\n",
       "    }\n",
       "\n",
       "    .dataframe tbody tr th {\n",
       "        vertical-align: top;\n",
       "    }\n",
       "\n",
       "    .dataframe thead th {\n",
       "        text-align: right;\n",
       "    }\n",
       "</style>\n",
       "<table border=\"1\" class=\"dataframe\">\n",
       "  <thead>\n",
       "    <tr style=\"text-align: right;\">\n",
       "      <th></th>\n",
       "      <th>Prompt_ID</th>\n",
       "      <th>correct</th>\n",
       "    </tr>\n",
       "  </thead>\n",
       "  <tbody>\n",
       "    <tr>\n",
       "      <th>0</th>\n",
       "      <td>0</td>\n",
       "      <td>0.687500</td>\n",
       "    </tr>\n",
       "    <tr>\n",
       "      <th>1</th>\n",
       "      <td>1</td>\n",
       "      <td>0.500000</td>\n",
       "    </tr>\n",
       "    <tr>\n",
       "      <th>2</th>\n",
       "      <td>2</td>\n",
       "      <td>0.500000</td>\n",
       "    </tr>\n",
       "    <tr>\n",
       "      <th>3</th>\n",
       "      <td>3</td>\n",
       "      <td>0.507812</td>\n",
       "    </tr>\n",
       "    <tr>\n",
       "      <th>4</th>\n",
       "      <td>4</td>\n",
       "      <td>0.515625</td>\n",
       "    </tr>\n",
       "    <tr>\n",
       "      <th>5</th>\n",
       "      <td>5</td>\n",
       "      <td>0.546875</td>\n",
       "    </tr>\n",
       "    <tr>\n",
       "      <th>6</th>\n",
       "      <td>6</td>\n",
       "      <td>0.519531</td>\n",
       "    </tr>\n",
       "    <tr>\n",
       "      <th>7</th>\n",
       "      <td>7</td>\n",
       "      <td>0.480469</td>\n",
       "    </tr>\n",
       "    <tr>\n",
       "      <th>8</th>\n",
       "      <td>8</td>\n",
       "      <td>0.500000</td>\n",
       "    </tr>\n",
       "    <tr>\n",
       "      <th>9</th>\n",
       "      <td>9</td>\n",
       "      <td>0.566406</td>\n",
       "    </tr>\n",
       "    <tr>\n",
       "      <th>10</th>\n",
       "      <td>10</td>\n",
       "      <td>0.515625</td>\n",
       "    </tr>\n",
       "    <tr>\n",
       "      <th>11</th>\n",
       "      <td>11</td>\n",
       "      <td>0.507812</td>\n",
       "    </tr>\n",
       "  </tbody>\n",
       "</table>\n",
       "</div>"
      ],
      "text/plain": [
       "    Prompt_ID   correct\n",
       "0           0  0.687500\n",
       "1           1  0.500000\n",
       "2           2  0.500000\n",
       "3           3  0.507812\n",
       "4           4  0.515625\n",
       "5           5  0.546875\n",
       "6           6  0.519531\n",
       "7           7  0.480469\n",
       "8           8  0.500000\n",
       "9           9  0.566406\n",
       "10         10  0.515625\n",
       "11         11  0.507812"
      ]
     },
     "execution_count": 9,
     "metadata": {},
     "output_type": "execute_result"
    }
   ],
   "source": [
    "# get proportion of correct answers for each prompt\n",
    "ratio_by_prompt = results.groupby('Prompt_ID')['correct'].sum() / results.groupby('Prompt_ID')['correct'].count()\n",
    "ratio_by_prompt.reset_index()"
   ]
  },
  {
   "cell_type": "code",
   "execution_count": 10,
   "metadata": {},
   "outputs": [
    {
     "name": "stdout",
     "output_type": "stream",
     "text": [
      "Average ratio of correct responses: 0.5289713541666666\n"
     ]
    }
   ],
   "source": [
    "ratios = np.asarray(ratio_by_prompt.values)\n",
    "print(f'Average ratio of correct responses: {np.mean(ratios)}')"
   ]
  },
  {
   "cell_type": "markdown",
   "metadata": {},
   "source": [
    "Perform one sample t-test.\n",
    "Null hypothesis is that the true sample mean is 50% or lower.\n",
    "Hypothesis is that sample mean is bigger than 50%."
   ]
  },
  {
   "cell_type": "code",
   "execution_count": 11,
   "metadata": {},
   "outputs": [
    {
     "data": {
      "text/plain": [
       "TtestResult(statistic=1.830520602524898, pvalue=0.0471868029489647, df=11)"
      ]
     },
     "execution_count": 11,
     "metadata": {},
     "output_type": "execute_result"
    }
   ],
   "source": [
    "stats.ttest_1samp(ratios, popmean=0.5, alternative='greater')"
   ]
  },
  {
   "cell_type": "code",
   "execution_count": 12,
   "metadata": {},
   "outputs": [
    {
     "data": {
      "text/html": [
       "<div>\n",
       "<style scoped>\n",
       "    .dataframe tbody tr th:only-of-type {\n",
       "        vertical-align: middle;\n",
       "    }\n",
       "\n",
       "    .dataframe tbody tr th {\n",
       "        vertical-align: top;\n",
       "    }\n",
       "\n",
       "    .dataframe thead th {\n",
       "        text-align: right;\n",
       "    }\n",
       "</style>\n",
       "<table border=\"1\" class=\"dataframe\">\n",
       "  <thead>\n",
       "    <tr style=\"text-align: right;\">\n",
       "      <th></th>\n",
       "      <th>Prompt_ID</th>\n",
       "      <th>correct</th>\n",
       "    </tr>\n",
       "  </thead>\n",
       "  <tbody>\n",
       "    <tr>\n",
       "      <th>0</th>\n",
       "      <td>0</td>\n",
       "      <td>0.687500</td>\n",
       "    </tr>\n",
       "    <tr>\n",
       "      <th>1</th>\n",
       "      <td>1</td>\n",
       "      <td>0.500000</td>\n",
       "    </tr>\n",
       "    <tr>\n",
       "      <th>2</th>\n",
       "      <td>2</td>\n",
       "      <td>0.500000</td>\n",
       "    </tr>\n",
       "    <tr>\n",
       "      <th>3</th>\n",
       "      <td>3</td>\n",
       "      <td>0.507812</td>\n",
       "    </tr>\n",
       "    <tr>\n",
       "      <th>4</th>\n",
       "      <td>4</td>\n",
       "      <td>0.515625</td>\n",
       "    </tr>\n",
       "    <tr>\n",
       "      <th>5</th>\n",
       "      <td>5</td>\n",
       "      <td>0.546875</td>\n",
       "    </tr>\n",
       "    <tr>\n",
       "      <th>6</th>\n",
       "      <td>6</td>\n",
       "      <td>0.519531</td>\n",
       "    </tr>\n",
       "    <tr>\n",
       "      <th>7</th>\n",
       "      <td>7</td>\n",
       "      <td>0.480469</td>\n",
       "    </tr>\n",
       "    <tr>\n",
       "      <th>8</th>\n",
       "      <td>8</td>\n",
       "      <td>0.500000</td>\n",
       "    </tr>\n",
       "    <tr>\n",
       "      <th>9</th>\n",
       "      <td>9</td>\n",
       "      <td>0.566406</td>\n",
       "    </tr>\n",
       "    <tr>\n",
       "      <th>10</th>\n",
       "      <td>10</td>\n",
       "      <td>0.515625</td>\n",
       "    </tr>\n",
       "    <tr>\n",
       "      <th>11</th>\n",
       "      <td>11</td>\n",
       "      <td>0.507812</td>\n",
       "    </tr>\n",
       "  </tbody>\n",
       "</table>\n",
       "</div>"
      ],
      "text/plain": [
       "    Prompt_ID   correct\n",
       "0           0  0.687500\n",
       "1           1  0.500000\n",
       "2           2  0.500000\n",
       "3           3  0.507812\n",
       "4           4  0.515625\n",
       "5           5  0.546875\n",
       "6           6  0.519531\n",
       "7           7  0.480469\n",
       "8           8  0.500000\n",
       "9           9  0.566406\n",
       "10         10  0.515625\n",
       "11         11  0.507812"
      ]
     },
     "execution_count": 12,
     "metadata": {},
     "output_type": "execute_result"
    }
   ],
   "source": [
    "ratio_by_prompt = ratio_by_prompt.reset_index()\n",
    "ratio_by_prompt"
   ]
  },
  {
   "cell_type": "markdown",
   "metadata": {},
   "source": [
    "Distribution of correct response rate over different prompts"
   ]
  },
  {
   "cell_type": "code",
   "execution_count": 21,
   "metadata": {},
   "outputs": [
    {
     "data": {
      "text/plain": [
       "<matplotlib.collections.LineCollection at 0x7f45bbda2490>"
      ]
     },
     "execution_count": 21,
     "metadata": {},
     "output_type": "execute_result"
    },
    {
     "data": {
      "image/png": "[encoded data removed]",
      "text/plain": [
       "<Figure size 640x480 with 1 Axes>"
      ]
     },
     "metadata": {},
     "output_type": "display_data"
    }
   ],
   "source": [
    "import seaborn as sns\n",
    "sns.set_style(\"darkgrid\")\n",
    "ax = sns.barplot(data = ratio_by_prompt, x='Prompt_ID', y='correct')\n",
    "ax.hlines(0.5, -0.5, 11.5, color='black')"
   ]
  }
 ],
 "metadata": {
  "kernelspec": {
   "display_name": "llm",
   "language": "python",
   "name": "llm"
  },
  "language_info": {
   "codemirror_mode": {
    "name": "ipython",
    "version": 3
   },
   "file_extension": ".py",
   "mimetype": "text/x-python",
   "name": "python",
   "nbconvert_exporter": "python",
   "pygments_lexer": "ipython3",
   "version": "3.9.16"
  }
 },
 "nbformat": 4,
 "nbformat_minor": 1
}
